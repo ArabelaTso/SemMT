{
 "cells": [
  {
   "cell_type": "code",
   "execution_count": 1,
   "metadata": {},
   "outputs": [],
   "source": [
    "import os\n",
    "import re\n",
    "import collections"
   ]
  },
  {
   "cell_type": "markdown",
   "metadata": {},
   "source": [
    "## Datasets"
   ]
  },
  {
   "cell_type": "code",
   "execution_count": 2,
   "metadata": {},
   "outputs": [],
   "source": [
    "datasets = collections.defaultdict(lambda x: collections.defaultdict(list))"
   ]
  },
  {
   "cell_type": "code",
   "execution_count": 3,
   "metadata": {},
   "outputs": [],
   "source": [
    "MIN_LENGTH = 1"
   ]
  },
  {
   "cell_type": "markdown",
   "metadata": {},
   "source": [
    "### ReutersNews"
   ]
  },
  {
   "cell_type": "code",
   "execution_count": 4,
   "metadata": {},
   "outputs": [
    {
     "name": "stdout",
     "output_type": "stream",
     "text": [
      "106519\n"
     ]
    }
   ],
   "source": [
    "ReutersNews = []\n",
    "cnt = 0\n",
    "\n",
    "folder_url = \"../data/Motivation/ReutersNews106521\"\n",
    "\n",
    "folders = os.listdir(folder_url)\n",
    "\n",
    "for folder in folders:\n",
    "    if not os.path.isdir(os.path.join(folder_url, folder)):\n",
    "        continue\n",
    "            \n",
    "    files = os.listdir(os.path.join(folder_url, folder))\n",
    "    for file in files:\n",
    "        cur_content = []\n",
    "        for line in open(os.path.join(folder_url, folder, file)).readlines():\n",
    "            if not line.startswith(\"-- \") and len(line.strip(\"\\n\")) > 0:\n",
    "                cur_content.append(line.strip(\"\\n\"))\n",
    "        ReutersNews.append(\" \".join(cur_content))\n",
    "        cnt += 1\n",
    "        \n",
    "print(cnt)"
   ]
  },
  {
   "cell_type": "code",
   "execution_count": 7,
   "metadata": {},
   "outputs": [
    {
     "name": "stdout",
     "output_type": "stream",
     "text": [
      "All: 2286423 | Filter by 1 | Remaining: 2286423 | Removed: 0. \n"
     ]
    },
    {
     "data": {
      "text/plain": [
       "(2286423, 2286423)"
      ]
     },
     "execution_count": 7,
     "metadata": {},
     "output_type": "execute_result"
    }
   ],
   "source": [
    "ret_news = []\n",
    "lines_ret_news = 0\n",
    "\n",
    "for news in ReutersNews:\n",
    "    splits = list(map(lambda x: x.strip(\" \"), news.split(\". \")))\n",
    "    ret_news.extend(list(filter(lambda x: len(x.split(\" \")) >= MIN_LENGTH, splits)))\n",
    "    lines_ret_news += len(splits)\n",
    "\n",
    "\n",
    "ret_news = list(filter(lambda x: len(x.split(\" \")) >= MIN_LENGTH, ret_news))\n",
    "total = len(ret_news)\n",
    "\n",
    "print(\"All: {} | Filter by {} | Remaining: {} | Removed: {}. \".format(total, \n",
    "                                                                      MIN_LENGTH, \n",
    "                                                                      len(ret_news), \n",
    "                                                                      total - len(ret_news)))\n",
    "datasets[\"ReutersNews\"] = ret_news\n",
    "\n",
    "len(ret_news), lines_ret_news\n"
   ]
  },
  {
   "cell_type": "markdown",
   "metadata": {},
   "source": [
    "### WMT-News"
   ]
  },
  {
   "cell_type": "code",
   "execution_count": 9,
   "metadata": {},
   "outputs": [
    {
     "name": "stdout",
     "output_type": "stream",
     "text": [
      "total: 14522\n",
      "All: 14522 | Filter by 1 | Remaining: 14522 | Removed: 0. \n"
     ]
    }
   ],
   "source": [
    "\n",
    "\n",
    "news_wmt = list(map(lambda x: x.strip(\"\\n\"), open(\"../data/Motivation/WMT-News.en-es.en\").readlines()))\n",
    "total = len(news_wmt)\n",
    "print(\"total:\", total)\n",
    "\n",
    "\n",
    "news_wmt = list(filter(lambda x: len(x.split(\" \")) >= MIN_LENGTH, news_wmt))\n",
    "print(\"All: {} | Filter by {} | Remaining: {} | Removed: {}. \".format(total, \n",
    "                                                                      MIN_LENGTH, \n",
    "                                                                      len(news_wmt), \n",
    "                                                                      total - len(news_wmt)))\n",
    "\n",
    "datasets[\"WMT-News\"] = news_wmt\n",
    "\n"
   ]
  },
  {
   "cell_type": "markdown",
   "metadata": {},
   "source": [
    "### commoncrawl"
   ]
  },
  {
   "cell_type": "code",
   "execution_count": 10,
   "metadata": {},
   "outputs": [
    {
     "name": "stdout",
     "output_type": "stream",
     "text": [
      "All: 1845286 | Filter by 1 | Remaining: 1845286 | Removed: 0. \n"
     ]
    }
   ],
   "source": [
    "commoncrawl = list(map(lambda x: x.strip(\"\\n\"), open(\"../data/Motivation/commoncrawl.es-en.en\").readlines()))\n",
    "total = len(commoncrawl)\n",
    "\n",
    "commoncrawl = list(filter(lambda x: len(x.split(\" \")) >= MIN_LENGTH, commoncrawl))\n",
    "\n",
    "print(\"All: {} | Filter by {} | Remaining: {} | Removed: {}. \".format(total, \n",
    "                                                                      MIN_LENGTH, \n",
    "                                                                      len(commoncrawl), \n",
    "                                                                      total - len(commoncrawl)))\n",
    "\n",
    "\n",
    "datasets[\"Common Crawl\"] = commoncrawl\n"
   ]
  },
  {
   "cell_type": "markdown",
   "metadata": {},
   "source": [
    "### banking & finance law"
   ]
  },
  {
   "cell_type": "code",
   "execution_count": 11,
   "metadata": {},
   "outputs": [
    {
     "name": "stdout",
     "output_type": "stream",
     "text": [
      "All: 1870 | Filter by 1 | Remaining: 1870 | Removed: 0. \n"
     ]
    }
   ],
   "source": [
    "banking = list(map(lambda x: x.strip(\"\\n\"), open(\"../data/Motivation/banking_finance.txt\").readlines()))\n",
    "banking = \" \".join(banking).split(\". \")\n",
    "\n",
    "total = len(banking)\n",
    "banking = list(filter(lambda x: len(x.split(\" \")) >= MIN_LENGTH, banking))\n",
    "\n",
    "print(\"All: {} | Filter by {} | Remaining: {} | Removed: {}. \".format(total, \n",
    "                                                                      MIN_LENGTH, \n",
    "                                                                      len(banking), \n",
    "                                                                      total - len(banking)))\n",
    "\n"
   ]
  },
  {
   "cell_type": "markdown",
   "metadata": {
    "pycharm": {
     "name": "#%% md\n"
    }
   },
   "source": [
    "### commentary"
   ]
  },
  {
   "cell_type": "code",
   "execution_count": 12,
   "metadata": {},
   "outputs": [
    {
     "name": "stdout",
     "output_type": "stream",
     "text": [
      "All: 169437 | Filter by 1 | Remaining: 169437 | Removed: 0. \n"
     ]
    }
   ],
   "source": [
    "commentary = list(map(lambda x: x.strip(\"\\n\"), open(\"../data/Motivation/news-commentary-v8.es-en.en\").readlines()))\n",
    "commentary = \" \".join(commentary).split(\". \")\n",
    "total = len(commentary)\n",
    "\n",
    "commentary = list(filter(lambda x: len(x.split(\" \")) >= MIN_LENGTH, commentary))\n",
    "\n",
    "print(\"All: {} | Filter by {} | Remaining: {} | Removed: {}. \".format(total, \n",
    "                                                                      MIN_LENGTH, \n",
    "                                                                      len(commentary), \n",
    "                                                                      total - len(commentary)))\n",
    "\n",
    "datasets[\"Commentary\"] = commentary\n"
   ]
  },
  {
   "cell_type": "markdown",
   "metadata": {},
   "source": [
    "### europarl-v7.es-en.en"
   ]
  },
  {
   "cell_type": "code",
   "execution_count": 13,
   "metadata": {},
   "outputs": [
    {
     "name": "stdout",
     "output_type": "stream",
     "text": [
      "All: 1932608 | Filter by 1 | Remaining: 1932608 | Removed: 0. \n"
     ]
    },
    {
     "data": {
      "text/plain": [
       "1932608"
      ]
     },
     "execution_count": 13,
     "metadata": {},
     "output_type": "execute_result"
    }
   ],
   "source": [
    "europarl = list(map(lambda x: x.strip(\"\\n\"), open(\"../data/Motivation/europarl-v7.es-en.en\").readlines()))\n",
    "europarl = \" \".join(europarl).split(\". \")\n",
    "total = len(europarl)\n",
    "\n",
    "europarl = list(filter(lambda x: len(x.split(\" \")) >= MIN_LENGTH, europarl))\n",
    "\n",
    "print(\"All: {} | Filter by {} | Remaining: {} | Removed: {}. \".format(total, \n",
    "                                                                      MIN_LENGTH, \n",
    "                                                                      len(europarl), \n",
    "                                                                      total - len(europarl)))\n",
    "\n",
    "\n",
    "datasets[\"Europarl\"] = europarl\n",
    "len(europarl)"
   ]
  },
  {
   "cell_type": "code",
   "execution_count": null,
   "metadata": {},
   "outputs": [],
   "source": []
  },
  {
   "cell_type": "markdown",
   "metadata": {},
   "source": [
    "## Keywords"
   ]
  },
  {
   "cell_type": "code",
   "execution_count": null,
   "metadata": {},
   "outputs": [],
   "source": []
  },
  {
   "cell_type": "code",
   "execution_count": null,
   "metadata": {},
   "outputs": [],
   "source": [
    "\n",
    "\n"
   ]
  },
  {
   "cell_type": "code",
   "execution_count": 14,
   "metadata": {},
   "outputs": [],
   "source": [
    "# this\n",
    "comparative_template1 = set([\"\\d+ times\", \"more than \\d+\", \"greater than \\d+\", \"larger than \\d+\", \n",
    "                               \"greater than or equal to \\d+\", \"smaller than or equal to \\d+\",\n",
    "                               \"less than \\d+\", \"at least \\d+\", \"at least once\", \"at most \\d+\",\"up to \\d+\", \n",
    "                               \"\\d+ or more\", \"\\d+ or less\",\n",
    "                               \"\\d+ million\", \"\\d+ thousand\", \"\\d+ billion\", \"\\d+ hundred\",\n",
    "                               \"one\",\"two\",\"three\",\"four\",\"five\",\"six\",\"seven\",\"eight\",\"nine\", \"ten\",\n",
    "                              ])\n",
    "\n",
    "part_whole_relations1 = set([\"contain\", \"without\", \"includ[a-z]*\", \"exclud[a-z]*\", \"consist[a-z]* of\"])"
   ]
  },
  {
   "cell_type": "code",
   "execution_count": 15,
   "metadata": {
    "scrolled": false
   },
   "outputs": [
    {
     "name": "stdout",
     "output_type": "stream",
     "text": [
      "27 5\n",
      "ReutersNews 2286423 490614 0.21457709269019776 427841 0.18712241785531375 0.21689687341318734 86185 0.037694249926632124 0.038026209498417396\n",
      "WMT-News 14522 2652 0.18261947390166644 2290 0.15769177799201212 0.18613138686131386 468 0.032226965982647016 0.032502410136344854\n",
      "Common Crawl 1845286 253537 0.13739712976741816 182685 0.0990009136795055 0.11121528044975142 80729 0.043748773902798806 0.04463589925897666\n",
      "Commentary 169437 25019 0.14765960209399365 19808 0.11690480827682265 0.1307742700826856 5982 0.03530515766922219 0.03580091715504878\n",
      "Europarl 1932608 251660 0.13021781965095872 187626 0.09708435440606683 0.1064100945458158 72055 0.0372838154452429 0.037807460178163395\n"
     ]
    }
   ],
   "source": [
    "def statistics(datasets, quantity_pattern, logic_pattern):\n",
    "    print(len(quantity_pattern), len(logic_pattern))\n",
    "    for name, ds in datasets.items():\n",
    "#         if name != \"WMT-News\":\n",
    "#             continue\n",
    "            \n",
    "        hit_total = 0\n",
    "        hit_q = 0\n",
    "        hit_l = 0\n",
    "\n",
    "        hit_q_list = []\n",
    "        hit_l_list = []\n",
    "\n",
    "        for i, new in enumerate(ds):\n",
    "            new = new.lower()\n",
    "            \n",
    "            cur_hit_q = 0\n",
    "            cur_hit_l = 0\n",
    "\n",
    "            for q in quantity_pattern:\n",
    "                hit = re.findall(r\"\\b{}\\b\".format(q), new.lower())\n",
    "                if len(hit) > 0:\n",
    "#                     print(hit, new)\n",
    "                    cur_hit_q += 1\n",
    "        \n",
    "            hit_q_list.append(cur_hit_q) \n",
    "            hit_q += min(1, cur_hit_q)\n",
    "\n",
    "            for l in logic_pattern:\n",
    "                hit = re.findall(r\"\\b{}\\b\".format(l), new.lower())\n",
    "                if len(hit) > 0:\n",
    "                    cur_hit_l += 1\n",
    "                    \n",
    "            hit_l_list.append(cur_hit_l) \n",
    "            hit_l += min(1, cur_hit_l)\n",
    "\n",
    "            hit_total += 1 if cur_hit_q > 0 or cur_hit_l > 0 else 0\n",
    "\n",
    "        \n",
    "        print(name, len(ds), hit_total, hit_total/len(ds), hit_q, hit_q/len(ds), sum(hit_q_list)/len(hit_q_list),\n",
    "             hit_l, hit_l/len(ds), sum(hit_l_list)/len(hit_l_list))\n",
    "        \n",
    "statistics(datasets, comparative_template, part_whole_relations)\n",
    "\n"
   ]
  },
  {
   "cell_type": "markdown",
   "metadata": {},
   "source": [
    "## Count"
   ]
  },
  {
   "cell_type": "code",
   "execution_count": 203,
   "metadata": {},
   "outputs": [
    {
     "name": "stdout",
     "output_type": "stream",
     "text": [
      "1718060 215496\n",
      "0.12542984529061849\n"
     ]
    }
   ],
   "source": [
    "ds = europarl   # news_wmt,  commoncrawl, ReutersNews,  ret_news, banking\n",
    "\n",
    "selected = []\n",
    "\n",
    "hit_cnt = 0\n",
    "for i, new in enumerate(ds):\n",
    "    for pattern in patterns:\n",
    "        hit = re.findall(r\"\\b{}\\b\".format(pattern), new.lower())\n",
    "        if len(hit) > 0:\n",
    "#             print(i)\n",
    "#             print(new)\n",
    "#             print(hit)\n",
    "            hit_cnt += 1\n",
    "            selected.append(new)\n",
    "            break\n",
    "print(len(ds), hit_cnt)\n",
    "print(hit_cnt/len(ds))"
   ]
  },
  {
   "cell_type": "code",
   "execution_count": 205,
   "metadata": {},
   "outputs": [
    {
     "name": "stdout",
     "output_type": "stream",
     "text": [
      "1718060 179019 40976 215496\n",
      "0.12542984529061849\n",
      "0.11447737564462242\n",
      "0.02401022083047158\n"
     ]
    }
   ],
   "source": [
    "ds = europarl   # news_wmt,  commoncrawl, ReutersNews,  ret_news, banking, commentary, europarl\n",
    "\n",
    "selected = set()\n",
    "\n",
    "hit_total = 0\n",
    "hit_q = 0\n",
    "hit_l = 0\n",
    "\n",
    "hit_q_list = []\n",
    "hit_l_list = []\n",
    "\n",
    "for i, new in enumerate(ds):\n",
    "    cur_hit_q = 0\n",
    "    cur_hit_l = 0\n",
    "    hit_flag = False\n",
    "    \n",
    "    for q in quantity:\n",
    "        hit = re.findall(r\"\\b{}\\b\".format(q), new.lower())\n",
    "        if len(hit) > 0:\n",
    "            cur_hit_q += 1\n",
    "            hit_flag = True\n",
    "    hit_q_list.append(cur_hit_q) \n",
    "    hit_q += min(1, cur_hit_q)\n",
    "    \n",
    "    for l in logic:\n",
    "        hit = re.findall(r\"\\b{}\\b\".format(l), new.lower())\n",
    "        if len(hit) > 0:\n",
    "            cur_hit_l += 1\n",
    "            hit_flag = True\n",
    "    hit_l_list.append(cur_hit_l) \n",
    "    hit_l += min(1, cur_hit_l)\n",
    "    \n",
    "    \n",
    "    hit_total += 1 if hit_flag else 0\n",
    "    \n",
    "\n",
    "print(len(ds), hit_q, hit_l, hit_total)\n",
    "print(hit_total/len(ds))\n",
    "print(sum(hit_q_list)/len(hit_q_list))\n",
    "print(sum(hit_l_list)/len(hit_l_list))"
   ]
  },
  {
   "cell_type": "code",
   "execution_count": 50,
   "metadata": {},
   "outputs": [],
   "source": [
    "# stats \n",
    "import collections\n",
    "\n",
    "hist = collections.defaultdict(float)\n",
    "pievalue = collections.defaultdict(int)\n",
    "# hist = collections.defaultdict(lambda: collections.defaultdict(int))\n",
    "\n",
    "for name, ds in datasets.items():\n",
    "    for sent in ds:\n",
    "        if 0 < len(sent) < 10: \n",
    "            pievalue[\"<10\"] += 1\n",
    "        else:\n",
    "            pievalue[\">=10\"] += 1\n",
    "        \n",
    "        if (len(sent) // 10) >= 10: \n",
    "            hist[\"large\"] += 1\n",
    "        else:\n",
    "            hist[(len(sent) // 10)] += 1\n"
   ]
  },
  {
   "cell_type": "code",
   "execution_count": 34,
   "metadata": {},
   "outputs": [
    {
     "data": {
      "text/plain": [
       "defaultdict(float,\n",
       "            {3: 161277.0,\n",
       "             6: 320535.0,\n",
       "             'large': 3971066.0,\n",
       "             8: 349405.0,\n",
       "             4: 238718.0,\n",
       "             5: 305018.0,\n",
       "             0: 57422.0,\n",
       "             9: 351841.0,\n",
       "             7: 334237.0,\n",
       "             2: 103112.0,\n",
       "             1: 55645.0})"
      ]
     },
     "execution_count": 34,
     "metadata": {},
     "output_type": "execute_result"
    }
   ],
   "source": [
    "hist\n"
   ]
  },
  {
   "cell_type": "code",
   "execution_count": null,
   "metadata": {},
   "outputs": [],
   "source": []
  },
  {
   "cell_type": "code",
   "execution_count": 36,
   "metadata": {},
   "outputs": [
    {
     "data": {
      "image/png": "[encoded data removed]",
      "text/plain": [
       "<Figure size 576x432 with 1 Axes>"
      ]
     },
     "metadata": {
      "needs_background": "light"
     },
     "output_type": "display_data"
    },
    {
     "data": {
      "text/plain": [
       "<Figure size 432x288 with 0 Axes>"
      ]
     },
     "metadata": {},
     "output_type": "display_data"
    }
   ],
   "source": [
    "import seaborn as sns\n",
    "import pandas as pd\n",
    "\n",
    "\n",
    "y_axis, y_value = [], []\n",
    "for i in range(0, 10, 1):\n",
    "    y_axis.append(\"<{}\".format((i + 1) * 10))\n",
    "    y_value.append(hist[i])\n",
    "    \n",
    "y_axis.append(\">=100\")\n",
    "y_value.append(hist['large'])\n",
    "# for key, value in hist.item():\n",
    "    \n",
    "df = pd.DataFrame({'y_axis': y_axis, 'y_value': y_value})\n",
    "\n",
    "plt.figure(figsize=(8, 6))\n",
    "splot=sns.barplot(x=\"y_axis\",y=\"y_value\",data=df)\n",
    "plt.xlabel(\"Sentence Lengths\", size=16)\n",
    "plt.ylabel(\"Number of Sentences\", size=16)\n",
    "\n",
    "\n",
    "fig1 = plt.gcf()\n",
    "plt.show()\n",
    "plt.draw()\n",
    "fig1.savefig('hist.pdf', dpi=100)\n"
   ]
  },
  {
   "cell_type": "code",
   "execution_count": 26,
   "metadata": {},
   "outputs": [
    {
     "data": {
      "text/plain": [
       "0.008905656536298972"
      ]
     },
     "execution_count": 26,
     "metadata": {},
     "output_type": "execute_result"
    }
   ],
   "source": [
    "hist[1] / sum(hist.values())"
   ]
  },
  {
   "cell_type": "code",
   "execution_count": 56,
   "metadata": {},
   "outputs": [
    {
     "data": {
      "image/png": "[encoded data removed]",
      "text/plain": [
       "<Figure size 432x288 with 1 Axes>"
      ]
     },
     "metadata": {},
     "output_type": "display_data"
    },
    {
     "data": {
      "text/plain": [
       "<Figure size 432x288 with 0 Axes>"
      ]
     },
     "metadata": {},
     "output_type": "display_data"
    }
   ],
   "source": [
    "labels = pievalue.keys()\n",
    "sizes = pievalue.values()\n",
    "explode = (0.0, 0)  # only \"explode\" the 2nd slice (i.e. 'Hogs')\n",
    "\n",
    "fig1, ax1 = plt.subplots()\n",
    "# ax1.pie(sizes, explode=explode, labels=labels, autopct='%1.1f%%',\n",
    "#         shadow=True, startangle=0)\n",
    "# ax1.axis('equal')  # Equal aspect ratio ensures that pie is drawn as a circle.\n",
    "\n",
    "colors = sns.color_palette('pastel')[:2]\n",
    "\n",
    "#create pie chart\n",
    "plt.pie(sizes, labels = labels, colors = colors, autopct='%1.2f%%')\n",
    "# plt.xlabel(\"Distribution of Lengths of Sentence.\", size=12)\n",
    "# plt.ylabel(\"Number of Sentences\", size=16)\n",
    "\n",
    "\n",
    "fig1 = plt.gcf()\n",
    "plt.show()\n",
    "plt.draw()\n",
    "fig1.savefig('pie.pdf', dpi=100)"
   ]
  },
  {
   "cell_type": "code",
   "execution_count": null,
   "metadata": {},
   "outputs": [],
   "source": []
  }
 ],
 "metadata": {
  "kernelspec": {
   "display_name": "Python 3 (ipykernel)",
   "language": "python",
   "name": "python3"
  },
  "language_info": {
   "codemirror_mode": {
    "name": "ipython",
    "version": 3
   },
   "file_extension": ".py",
   "mimetype": "text/x-python",
   "name": "python",
   "nbconvert_exporter": "python",
   "pygments_lexer": "ipython3",
   "version": "3.8.0"
  }
 },
 "nbformat": 4,
 "nbformat_minor": 4
}
